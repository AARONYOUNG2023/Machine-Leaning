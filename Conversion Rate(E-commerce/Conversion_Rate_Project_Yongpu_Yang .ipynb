{
 "cells": [
  {
   "cell_type": "markdown",
   "id": "85dda553-f2fd-40fe-a57b-fafa672b65b8",
   "metadata": {},
   "source": [
    "# Project02 - Conversion Rate\n",
    "\n",
    "The dataset is from an E-commerce site. It includes the users' country, age, whether new user or not, marketing channel, the number of pages visited during that session. Also it includes the data whether they converted or not.\n",
    "\n",
    "The project objective to analyse what make an effect on the conversion rate and come up with recommendations for the product and the marketing teams to improve conversion rate.\n",
    "\n",
    "Four parts are included in this project:\n",
    "\n",
    "- 1. Exploratory and Descriptive Analysis\n",
    " \n",
    "- 2. Data Visualization\n",
    " \n",
    "- 3. Model Building\n",
    " \n",
    "- 4. Model Evaluation"
   ]
  },
  {
   "cell_type": "markdown",
   "id": "aee933f8-aab8-49fd-ab64-f7240f5c860e",
   "metadata": {},
   "source": [
    "## Part 1: EDA\n",
    "\n",
    "It is used to show the basic information about this dataset, including the shape of dataset, the labels of categorical data, and the general trend.\n",
    "\n",
    "(data cleaning is included in this part, while one-hot coding is not.)"
   ]
  },
  {
   "cell_type": "code",
   "execution_count": 1,
   "id": "776b2543-df42-42a0-beb2-f684b21dcc1c",
   "metadata": {},
   "outputs": [],
   "source": [
    "import pandas as pd\n",
    "import numpy as np\n",
    "import matplotlib.pyplot as plt\n",
    "import seaborn as sns"
   ]
  },
  {
   "cell_type": "markdown",
   "id": "8ffc30ef-912e-49b7-863e-536467adc09b",
   "metadata": {},
   "source": [
    "### 1.1 Loading Data"
   ]
  },
  {
   "cell_type": "code",
   "execution_count": 2,
   "id": "5f0d07ef-977f-46bf-ab29-aca406d28ed0",
   "metadata": {},
   "outputs": [
    {
     "data": {
      "text/html": [
       "<div>\n",
       "<style scoped>\n",
       "    .dataframe tbody tr th:only-of-type {\n",
       "        vertical-align: middle;\n",
       "    }\n",
       "\n",
       "    .dataframe tbody tr th {\n",
       "        vertical-align: top;\n",
       "    }\n",
       "\n",
       "    .dataframe thead th {\n",
       "        text-align: right;\n",
       "    }\n",
       "</style>\n",
       "<table border=\"1\" class=\"dataframe\">\n",
       "  <thead>\n",
       "    <tr style=\"text-align: right;\">\n",
       "      <th></th>\n",
       "      <th>country</th>\n",
       "      <th>age</th>\n",
       "      <th>new_user</th>\n",
       "      <th>source</th>\n",
       "      <th>total_pages_visited</th>\n",
       "      <th>converted</th>\n",
       "    </tr>\n",
       "  </thead>\n",
       "  <tbody>\n",
       "    <tr>\n",
       "      <th>0</th>\n",
       "      <td>UK</td>\n",
       "      <td>25</td>\n",
       "      <td>1</td>\n",
       "      <td>Ads</td>\n",
       "      <td>1</td>\n",
       "      <td>0</td>\n",
       "    </tr>\n",
       "    <tr>\n",
       "      <th>1</th>\n",
       "      <td>US</td>\n",
       "      <td>23</td>\n",
       "      <td>1</td>\n",
       "      <td>Seo</td>\n",
       "      <td>5</td>\n",
       "      <td>0</td>\n",
       "    </tr>\n",
       "    <tr>\n",
       "      <th>2</th>\n",
       "      <td>US</td>\n",
       "      <td>28</td>\n",
       "      <td>1</td>\n",
       "      <td>Seo</td>\n",
       "      <td>4</td>\n",
       "      <td>0</td>\n",
       "    </tr>\n",
       "    <tr>\n",
       "      <th>3</th>\n",
       "      <td>China</td>\n",
       "      <td>39</td>\n",
       "      <td>1</td>\n",
       "      <td>Seo</td>\n",
       "      <td>5</td>\n",
       "      <td>0</td>\n",
       "    </tr>\n",
       "    <tr>\n",
       "      <th>4</th>\n",
       "      <td>US</td>\n",
       "      <td>30</td>\n",
       "      <td>1</td>\n",
       "      <td>Seo</td>\n",
       "      <td>6</td>\n",
       "      <td>0</td>\n",
       "    </tr>\n",
       "  </tbody>\n",
       "</table>\n",
       "</div>"
      ],
      "text/plain": [
       "  country  age  new_user source  total_pages_visited  converted\n",
       "0      UK   25         1    Ads                    1          0\n",
       "1      US   23         1    Seo                    5          0\n",
       "2      US   28         1    Seo                    4          0\n",
       "3   China   39         1    Seo                    5          0\n",
       "4      US   30         1    Seo                    6          0"
      ]
     },
     "execution_count": 2,
     "metadata": {},
     "output_type": "execute_result"
    }
   ],
   "source": [
    "df_raw = pd.read_csv(\"conversion_project.csv\")\n",
    "\n",
    "df = df_raw.copy(deep = True)\n",
    "\n",
    "df.head(5)"
   ]
  },
  {
   "cell_type": "markdown",
   "id": "d49bba9f-e8de-47a9-a686-626282036d6d",
   "metadata": {},
   "source": [
    "### 1.2 Dataset Shape"
   ]
  },
  {
   "cell_type": "code",
   "execution_count": 3,
   "id": "efae6672-5905-4759-befc-b921a15b6f9e",
   "metadata": {},
   "outputs": [
    {
     "data": {
      "text/html": [
       "<div>\n",
       "<style scoped>\n",
       "    .dataframe tbody tr th:only-of-type {\n",
       "        vertical-align: middle;\n",
       "    }\n",
       "\n",
       "    .dataframe tbody tr th {\n",
       "        vertical-align: top;\n",
       "    }\n",
       "\n",
       "    .dataframe thead th {\n",
       "        text-align: right;\n",
       "    }\n",
       "</style>\n",
       "<table border=\"1\" class=\"dataframe\">\n",
       "  <thead>\n",
       "    <tr style=\"text-align: right;\">\n",
       "      <th></th>\n",
       "      <th>Row Number</th>\n",
       "      <th>Column Number</th>\n",
       "    </tr>\n",
       "  </thead>\n",
       "  <tbody>\n",
       "    <tr>\n",
       "      <th>0</th>\n",
       "      <td>316200</td>\n",
       "      <td>6</td>\n",
       "    </tr>\n",
       "  </tbody>\n",
       "</table>\n",
       "</div>"
      ],
      "text/plain": [
       "   Row Number  Column Number\n",
       "0      316200              6"
      ]
     },
     "execution_count": 3,
     "metadata": {},
     "output_type": "execute_result"
    }
   ],
   "source": [
    "# Display the shape of dataset\n",
    "pd.DataFrame([[df.shape[0], df.shape[1]]], columns = ['Row Number', 'Column Number'])"
   ]
  },
  {
   "cell_type": "markdown",
   "id": "48065786-a498-4e87-9611-8a1902504d9b",
   "metadata": {},
   "source": [
    "### 1.3 Data Type"
   ]
  },
  {
   "cell_type": "code",
   "execution_count": 4,
   "id": "378635d3-95f5-42bb-89f3-3c375b3398b6",
   "metadata": {},
   "outputs": [
    {
     "name": "stdout",
     "output_type": "stream",
     "text": [
      "country object\n",
      "age int64\n",
      "new_user int64\n",
      "source object\n",
      "total_pages_visited int64\n",
      "converted int64\n"
     ]
    }
   ],
   "source": [
    "# Display the dtype of each column\n",
    "for column in df.columns:\n",
    "    print(column, df[column].dtype)"
   ]
  },
  {
   "cell_type": "markdown",
   "id": "084b898d-65c2-4cc4-82ae-09016fb1b01d",
   "metadata": {},
   "source": [
    "### 1.4 Value Counts"
   ]
  },
  {
   "cell_type": "code",
   "execution_count": 12,
   "id": "1bdee613-4814-4b36-9740-c26f42a4d2a1",
   "metadata": {},
   "outputs": [
    {
     "data": {
      "text/plain": [
       "country\n",
       "US         178092\n",
       "China       76602\n",
       "UK          48450\n",
       "Germany     13056\n",
       "Name: count, dtype: int64"
      ]
     },
     "execution_count": 12,
     "metadata": {},
     "output_type": "execute_result"
    }
   ],
   "source": [
    "# For country\n",
    "df['country'].value_counts()"
   ]
  },
  {
   "cell_type": "code",
   "execution_count": 13,
   "id": "ce8a5e0b-ed1e-47f1-9109-c273cd73ca9d",
   "metadata": {},
   "outputs": [
    {
     "data": {
      "text/plain": [
       "new_user\n",
       "1    216744\n",
       "0     99456\n",
       "Name: count, dtype: int64"
      ]
     },
     "execution_count": 13,
     "metadata": {},
     "output_type": "execute_result"
    }
   ],
   "source": [
    "# For new_user\n",
    "df['new_user'].value_counts()"
   ]
  },
  {
   "cell_type": "code",
   "execution_count": 14,
   "id": "ed661d9a-5b1d-4e71-8ef4-19b906f45a1d",
   "metadata": {},
   "outputs": [
    {
     "data": {
      "text/plain": [
       "source\n",
       "Seo       155040\n",
       "Ads        88740\n",
       "Direct     72420\n",
       "Name: count, dtype: int64"
      ]
     },
     "execution_count": 14,
     "metadata": {},
     "output_type": "execute_result"
    }
   ],
   "source": [
    "# For source\n",
    "df['source'].value_counts()"
   ]
  },
  {
   "cell_type": "code",
   "execution_count": 15,
   "id": "b8c51d97-69eb-4917-893b-1ef8099b9a8b",
   "metadata": {},
   "outputs": [
    {
     "data": {
      "text/plain": [
       "converted\n",
       "0    306000\n",
       "1     10200\n",
       "Name: count, dtype: int64"
      ]
     },
     "execution_count": 15,
     "metadata": {},
     "output_type": "execute_result"
    }
   ],
   "source": [
    "# For converted\n",
    "df['converted'].value_counts()"
   ]
  },
  {
   "cell_type": "code",
   "execution_count": 21,
   "id": "4176b047-5a3a-4281-9b73-5e294dfc7e5f",
   "metadata": {},
   "outputs": [
    {
     "data": {
      "text/plain": [
       "total_pages_visited\n",
       "2     43868\n",
       "3     43829\n",
       "4     41046\n",
       "1     40739\n",
       "5     36308\n",
       "6     30261\n",
       "7     23488\n",
       "8     17522\n",
       "9     12157\n",
       "10     8074\n",
       "11     5394\n",
       "12     3615\n",
       "13     2425\n",
       "14     1811\n",
       "15     1325\n",
       "16     1100\n",
       "17      845\n",
       "18      722\n",
       "19      565\n",
       "20      405\n",
       "21      296\n",
       "22      180\n",
       "23      113\n",
       "24       46\n",
       "25       39\n",
       "26       17\n",
       "27        7\n",
       "29        2\n",
       "28        1\n",
       "Name: count, dtype: int64"
      ]
     },
     "execution_count": 21,
     "metadata": {},
     "output_type": "execute_result"
    }
   ],
   "source": [
    "# For pages_visited\n",
    "df['total_pages_visited'].value_counts()"
   ]
  },
  {
   "cell_type": "markdown",
   "id": "f3622f36-f969-499b-b3ec-6d5a6c894829",
   "metadata": {},
   "source": [
    "### 1.5 Conversion rate\n",
    "\n",
    "conversion_rate = conversions / total_sessions "
   ]
  },
  {
   "cell_type": "code",
   "execution_count": 17,
   "id": "f4f20544-f33d-4e90-830e-d8a48f8121eb",
   "metadata": {},
   "outputs": [
    {
     "data": {
      "text/plain": [
       "0.0323"
      ]
     },
     "execution_count": 17,
     "metadata": {},
     "output_type": "execute_result"
    }
   ],
   "source": [
    "conversion_rate = len(df[df['converted'] == 1]) / len(df)\n",
    "\n",
    "round(conversion_rate, 4)"
   ]
  },
  {
   "cell_type": "markdown",
   "id": "4d6e975b-bcdb-46cd-b91f-c31657e50112",
   "metadata": {},
   "source": [
    "From the above conversion rate, the new conversion rate for this dataset is about 3.23%."
   ]
  },
  {
   "cell_type": "markdown",
   "id": "518e6cf1-d35b-4a0d-8275-025f86c5a252",
   "metadata": {},
   "source": [
    "### 1.6 Null/Mising value Checking"
   ]
  },
  {
   "cell_type": "code",
   "execution_count": 19,
   "id": "f4a41586-9af0-4656-8da4-cd08e739e23a",
   "metadata": {},
   "outputs": [
    {
     "data": {
      "text/plain": [
       "country                0\n",
       "age                    0\n",
       "new_user               0\n",
       "source                 0\n",
       "total_pages_visited    0\n",
       "converted              0\n",
       "dtype: int64"
      ]
     },
     "execution_count": 19,
     "metadata": {},
     "output_type": "execute_result"
    }
   ],
   "source": [
    "# Checking the null/missing value number\n",
    "df.isna().sum()"
   ]
  },
  {
   "cell_type": "code",
   "execution_count": 20,
   "id": "fd28a6a5-2db8-445b-ae96-6e4ea770531c",
   "metadata": {},
   "outputs": [
    {
     "name": "stdout",
     "output_type": "stream",
     "text": [
      "<class 'pandas.core.frame.DataFrame'>\n",
      "RangeIndex: 316200 entries, 0 to 316199\n",
      "Data columns (total 6 columns):\n",
      " #   Column               Non-Null Count   Dtype \n",
      "---  ------               --------------   ----- \n",
      " 0   country              316200 non-null  object\n",
      " 1   age                  316200 non-null  int64 \n",
      " 2   new_user             316200 non-null  int64 \n",
      " 3   source               316200 non-null  object\n",
      " 4   total_pages_visited  316200 non-null  int64 \n",
      " 5   converted            316200 non-null  int64 \n",
      "dtypes: int64(4), object(2)\n",
      "memory usage: 14.5+ MB\n"
     ]
    }
   ],
   "source": [
    "df.info()"
   ]
  },
  {
   "cell_type": "markdown",
   "id": "f32be19d-f9b5-4063-90d5-766e748378a3",
   "metadata": {},
   "source": [
    "## Part 2: Data Visualization\n",
    "\n",
    "This part is to visualize the general trend and data pattern."
   ]
  },
  {
   "cell_type": "markdown",
   "id": "6bd410b0-a4b0-4b79-be9c-6f3e1ca82c6f",
   "metadata": {},
   "source": [
    "### 2.1 Country Distribution"
   ]
  },
  {
   "cell_type": "code",
   "execution_count": 27,
   "id": "150944b7-053d-47d1-bd5c-10c956bd7faf",
   "metadata": {
    "scrolled": true
   },
   "outputs": [
    {
     "data": {
      "image/png": "[encoded data removed]",
      "text/plain": [
       "<Figure size 600x400 with 1 Axes>"
      ]
     },
     "metadata": {},
     "output_type": "display_data"
    }
   ],
   "source": [
    "# The country distribution\n",
    "fig1, ax1 = plt.subplots(figsize = (6, 4))\n",
    "\n",
    "sns.countplot(data = df,\n",
    "              x = 'country')\n",
    "plt.xlabel('Country')\n",
    "plt.ylabel('Count')\n",
    "plt.title('Country Distribution')\n",
    "\n",
    "plt.tight_layout()\n",
    "plt.show()"
   ]
  },
  {
   "cell_type": "markdown",
   "id": "144bdd73-cfe5-4c08-a662-ed62dc9277db",
   "metadata": {},
   "source": [
    "### 2.2 Source Distribution"
   ]
  },
  {
   "cell_type": "code",
   "execution_count": 28,
   "id": "c4438929-fe26-4196-a6b2-b982b12c2ed2",
   "metadata": {
    "scrolled": true
   },
   "outputs": [
    {
     "data": {
      "image/png": "[encoded data removed]",
      "text/plain": [
       "<Figure size 600x400 with 1 Axes>"
      ]
     },
     "metadata": {},
     "output_type": "display_data"
    }
   ],
   "source": [
    "# The source distribution\n",
    "fig2, ax2 = plt.subplots(figsize = (6, 4))\n",
    "\n",
    "sns.countplot(data = df,\n",
    "              x = 'source')\n",
    "plt.xlabel('Source')\n",
    "plt.ylabel('Count')\n",
    "plt.title('Source Distribution')\n",
    "\n",
    "plt.tight_layout()\n",
    "plt.show()"
   ]
  },
  {
   "cell_type": "markdown",
   "id": "b6ba21cb-dc12-4302-8eb3-655d0e1fcf6d",
   "metadata": {},
   "source": [
    "### 2.3 Age Distribution"
   ]
  },
  {
   "cell_type": "code",
   "execution_count": 31,
   "id": "b0f03dda-21db-41c3-9ac0-3a3c1719753b",
   "metadata": {
    "scrolled": true
   },
   "outputs": [
    {
     "data": {
      "image/png": "[encoded data removed]",
      "text/plain": [
       "<Figure size 1200x600 with 1 Axes>"
      ]
     },
     "metadata": {},
     "output_type": "display_data"
    }
   ],
   "source": [
    "# The age distribution\n",
    "fig3, ax3 = plt.subplots(figsize = (12, 6))\n",
    "\n",
    "sns.countplot(data = df,\n",
    "              x = 'age')\n",
    "plt.xlabel('Age')\n",
    "plt.ylabel('Count')\n",
    "plt.title('Age Distribution')\n",
    "\n",
    "plt.tight_layout()\n",
    "plt.show()"
   ]
  },
  {
   "cell_type": "markdown",
   "id": "9c20c9ec-e79f-4201-a0f7-6ee8b75bbb9c",
   "metadata": {},
   "source": [
    "### 2.4 User Type Distribution"
   ]
  },
  {
   "cell_type": "code",
   "execution_count": 34,
   "id": "7e9d0a63-ff15-4fe7-aaae-e416d1c21631",
   "metadata": {},
   "outputs": [
    {
     "name": "stderr",
     "output_type": "stream",
     "text": [
      "C:\\Users\\yangy\\AppData\\Local\\Temp\\ipykernel_17916\\439781696.py:7: UserWarning: set_ticklabels() should only be used with a fixed number of ticks, i.e. after set_ticks() or using a FixedLocator.\n",
      "  ax4.set_xticklabels(['Old User', 'New User'])\n"
     ]
    },
    {
     "data": {
      "image/png": "[encoded data removed]",
      "text/plain": [
       "<Figure size 600x400 with 1 Axes>"
      ]
     },
     "metadata": {},
     "output_type": "display_data"
    }
   ],
   "source": [
    "# New or Old user\n",
    "fig4, ax4 = plt.subplots(figsize = (6, 4))\n",
    "\n",
    "sns.countplot(data = df,\n",
    "              x = 'new_user',\n",
    "              ax = ax4)\n",
    "ax4.set_xticklabels(['Old User', 'New User'])\n",
    "\n",
    "plt.xlabel('New or Old user')\n",
    "plt.ylabel('Count')\n",
    "plt.title('Old or New User')\n",
    "\n",
    "plt.tight_layout()\n",
    "plt.show()"
   ]
  },
  {
   "cell_type": "markdown",
   "id": "9fce4e52-9671-423d-95e7-1686fce536cd",
   "metadata": {},
   "source": [
    "### 2.5 Converted user by User Type and Country"
   ]
  },
  {
   "cell_type": "code",
   "execution_count": 9,
   "id": "5f19069c-0a71-4573-9bd4-424088dc4488",
   "metadata": {},
   "outputs": [
    {
     "data": {
      "image/png": "[encoded data removed]",
      "text/plain": [
       "<Figure size 1116.12x500 with 2 Axes>"
      ]
     },
     "metadata": {},
     "output_type": "display_data"
    }
   ],
   "source": [
    "# The plot shows the converted user by country and user type\n",
    "df['user_type'] = df['new_user'].map({1: 'New User', 0: 'Old User'})\n",
    "\n",
    "\n",
    "fig5 = sns.catplot(\n",
    "                    data=df,\n",
    "                    x='country',\n",
    "                    hue='user_type',\n",
    "                    col='converted',\n",
    "                    kind='count'\n",
    ")\n",
    "\n",
    "fig5.set_axis_labels('Country', 'Count')\n",
    "fig5.set_titles('Converted: {col_name}')\n",
    "plt.xticks(rotation=45)\n",
    "plt.tight_layout()\n",
    "plt.show()"
   ]
  },
  {
   "cell_type": "markdown",
   "id": "e3f962ec-6dc9-4af2-b0df-6d07ed9e38e9",
   "metadata": {},
   "source": [
    "The plot shows, most of converted users are old users(repeated users). The new user(first visited user) almost cannot be converted."
   ]
  },
  {
   "cell_type": "markdown",
   "id": "87d74841-886d-4539-9517-64363ae8ac11",
   "metadata": {},
   "source": [
    "### 2.6 Conversion user By Age"
   ]
  },
  {
   "cell_type": "code",
   "execution_count": 43,
   "id": "e5ce0958-2c2c-404a-931a-5c85b791149c",
   "metadata": {
    "scrolled": true
   },
   "outputs": [
    {
     "data": {
      "image/png": "[encoded data removed]",
      "text/plain": [
       "<Figure size 1200x600 with 1 Axes>"
      ]
     },
     "metadata": {},
     "output_type": "display_data"
    }
   ],
   "source": [
    "plt.figure(figsize=(12, 6))\n",
    "\n",
    "sns.histplot(data=df, x='age', hue='converted', multiple='stack', bins=100, palette='Set1')\n",
    "\n",
    "\n",
    "plt.xlabel('Age')\n",
    "plt.ylabel('Count')\n",
    "plt.title('Distribution of Conversions by Age Range')\n",
    "\n",
    "plt.tight_layout()\n",
    "plt.show()"
   ]
  },
  {
   "cell_type": "markdown",
   "id": "2588c9d5-1535-44f7-80a1-10f19df629dc",
   "metadata": {},
   "source": [
    "### 2.7 Page View Distribution"
   ]
  },
  {
   "cell_type": "code",
   "execution_count": 44,
   "id": "d0011fbf-4c55-4d95-a900-78f61ecace98",
   "metadata": {},
   "outputs": [
    {
     "data": {
      "image/png": "[encoded data removed]",
      "text/plain": [
       "<Figure size 1000x600 with 1 Axes>"
      ]
     },
     "metadata": {},
     "output_type": "display_data"
    }
   ],
   "source": [
    "fig7, ax7 = plt.subplots(figsize = (10, 6))\n",
    "\n",
    "fig7 = sns.countplot(data = df,\n",
    "                     x = 'total_pages_visited')\n",
    "\n",
    "plt.xlabel('Total Pages Visited')\n",
    "plt.ylabel('Count')\n",
    "plt.title('Pages Visited Distribution')\n",
    "\n",
    "plt.tight_layout()\n",
    "plt.show()"
   ]
  },
  {
   "cell_type": "markdown",
   "id": "49253daa-7b18-49c2-93ff-6645e860e4a2",
   "metadata": {},
   "source": [
    "## Part 3: Modeling"
   ]
  },
  {
   "cell_type": "markdown",
   "id": "a1be55e3-4642-4c7d-a94e-2c604f4e0d6d",
   "metadata": {},
   "source": [
    "Before modeling, it is necessary to preprocess the dataset. One is to one-hot coding categorical data, and second is to normalize the data, and third is to split the dataset."
   ]
  },
  {
   "cell_type": "markdown",
   "id": "c4cedfbc-5cce-47f2-bc31-e300521291cd",
   "metadata": {},
   "source": [
    "### 3.1 Cleaning Outliers"
   ]
  },
  {
   "cell_type": "markdown",
   "id": "6f90e37f-2412-4aa8-93ea-4e4cc858f608",
   "metadata": {},
   "source": [
    "There is only one column named as 'age' that I should check outliers."
   ]
  },
  {
   "cell_type": "code",
   "execution_count": 5,
   "id": "63e9a080-3ce9-496a-80f4-c0c218cc6fec",
   "metadata": {
    "scrolled": true
   },
   "outputs": [],
   "source": [
    "# IQR method to detect outliers\n",
    "age_q1 = df['age'].quantile(0.25)\n",
    "age_q3 = df['age'].quantile(0.75)\n",
    "\n",
    "IQR = age_q3 - age_q1\n",
    "\n",
    "lower_bound = age_q1 - 1.5*IQR\n",
    "upper_bound = age_q3 + 1.5*IQR\n"
   ]
  },
  {
   "cell_type": "markdown",
   "id": "921cf08b-478e-4162-bc94-2658f22cfb51",
   "metadata": {},
   "source": [
    "However, as I check the age distribution in the dataset, if the upper_bound set as 54, there are too much data to detele. It is better to keep most of them. Therefore, I decide to keep those users who are younger than 70 in the dataset."
   ]
  },
  {
   "cell_type": "code",
   "execution_count": 6,
   "id": "2a746caf-86fa-4018-b885-c3c180d0fdeb",
   "metadata": {},
   "outputs": [
    {
     "data": {
      "text/html": [
       "<div>\n",
       "<style scoped>\n",
       "    .dataframe tbody tr th:only-of-type {\n",
       "        vertical-align: middle;\n",
       "    }\n",
       "\n",
       "    .dataframe tbody tr th {\n",
       "        vertical-align: top;\n",
       "    }\n",
       "\n",
       "    .dataframe thead th {\n",
       "        text-align: right;\n",
       "    }\n",
       "</style>\n",
       "<table border=\"1\" class=\"dataframe\">\n",
       "  <thead>\n",
       "    <tr style=\"text-align: right;\">\n",
       "      <th></th>\n",
       "      <th>country</th>\n",
       "      <th>age</th>\n",
       "      <th>new_user</th>\n",
       "      <th>source</th>\n",
       "      <th>total_pages_visited</th>\n",
       "      <th>converted</th>\n",
       "    </tr>\n",
       "  </thead>\n",
       "  <tbody>\n",
       "    <tr>\n",
       "      <th>408</th>\n",
       "      <td>US</td>\n",
       "      <td>56</td>\n",
       "      <td>0</td>\n",
       "      <td>Seo</td>\n",
       "      <td>10</td>\n",
       "      <td>0</td>\n",
       "    </tr>\n",
       "    <tr>\n",
       "      <th>449</th>\n",
       "      <td>US</td>\n",
       "      <td>56</td>\n",
       "      <td>0</td>\n",
       "      <td>Direct</td>\n",
       "      <td>4</td>\n",
       "      <td>0</td>\n",
       "    </tr>\n",
       "    <tr>\n",
       "      <th>734</th>\n",
       "      <td>US</td>\n",
       "      <td>56</td>\n",
       "      <td>1</td>\n",
       "      <td>Direct</td>\n",
       "      <td>4</td>\n",
       "      <td>0</td>\n",
       "    </tr>\n",
       "    <tr>\n",
       "      <th>744</th>\n",
       "      <td>China</td>\n",
       "      <td>60</td>\n",
       "      <td>1</td>\n",
       "      <td>Seo</td>\n",
       "      <td>4</td>\n",
       "      <td>0</td>\n",
       "    </tr>\n",
       "    <tr>\n",
       "      <th>1066</th>\n",
       "      <td>China</td>\n",
       "      <td>57</td>\n",
       "      <td>1</td>\n",
       "      <td>Seo</td>\n",
       "      <td>8</td>\n",
       "      <td>0</td>\n",
       "    </tr>\n",
       "    <tr>\n",
       "      <th>...</th>\n",
       "      <td>...</td>\n",
       "      <td>...</td>\n",
       "      <td>...</td>\n",
       "      <td>...</td>\n",
       "      <td>...</td>\n",
       "      <td>...</td>\n",
       "    </tr>\n",
       "    <tr>\n",
       "      <th>314849</th>\n",
       "      <td>US</td>\n",
       "      <td>58</td>\n",
       "      <td>1</td>\n",
       "      <td>Seo</td>\n",
       "      <td>3</td>\n",
       "      <td>0</td>\n",
       "    </tr>\n",
       "    <tr>\n",
       "      <th>314865</th>\n",
       "      <td>US</td>\n",
       "      <td>55</td>\n",
       "      <td>1</td>\n",
       "      <td>Seo</td>\n",
       "      <td>3</td>\n",
       "      <td>0</td>\n",
       "    </tr>\n",
       "    <tr>\n",
       "      <th>314884</th>\n",
       "      <td>China</td>\n",
       "      <td>57</td>\n",
       "      <td>1</td>\n",
       "      <td>Seo</td>\n",
       "      <td>6</td>\n",
       "      <td>0</td>\n",
       "    </tr>\n",
       "    <tr>\n",
       "      <th>315381</th>\n",
       "      <td>China</td>\n",
       "      <td>56</td>\n",
       "      <td>1</td>\n",
       "      <td>Ads</td>\n",
       "      <td>3</td>\n",
       "      <td>0</td>\n",
       "    </tr>\n",
       "    <tr>\n",
       "      <th>315854</th>\n",
       "      <td>US</td>\n",
       "      <td>56</td>\n",
       "      <td>1</td>\n",
       "      <td>Seo</td>\n",
       "      <td>5</td>\n",
       "      <td>0</td>\n",
       "    </tr>\n",
       "  </tbody>\n",
       "</table>\n",
       "<p>1550 rows × 6 columns</p>\n",
       "</div>"
      ],
      "text/plain": [
       "       country  age  new_user  source  total_pages_visited  converted\n",
       "408         US   56         0     Seo                   10          0\n",
       "449         US   56         0  Direct                    4          0\n",
       "734         US   56         1  Direct                    4          0\n",
       "744      China   60         1     Seo                    4          0\n",
       "1066     China   57         1     Seo                    8          0\n",
       "...        ...  ...       ...     ...                  ...        ...\n",
       "314849      US   58         1     Seo                    3          0\n",
       "314865      US   55         1     Seo                    3          0\n",
       "314884   China   57         1     Seo                    6          0\n",
       "315381   China   56         1     Ads                    3          0\n",
       "315854      US   56         1     Seo                    5          0\n",
       "\n",
       "[1550 rows x 6 columns]"
      ]
     },
     "execution_count": 6,
     "metadata": {},
     "output_type": "execute_result"
    }
   ],
   "source": [
    "df[df['age'] > upper_bound]"
   ]
  },
  {
   "cell_type": "code",
   "execution_count": 53,
   "id": "53dfeba2-09ec-4cc4-b50c-42ba826248b2",
   "metadata": {},
   "outputs": [
    {
     "data": {
      "text/html": [
       "<div>\n",
       "<style scoped>\n",
       "    .dataframe tbody tr th:only-of-type {\n",
       "        vertical-align: middle;\n",
       "    }\n",
       "\n",
       "    .dataframe tbody tr th {\n",
       "        vertical-align: top;\n",
       "    }\n",
       "\n",
       "    .dataframe thead th {\n",
       "        text-align: right;\n",
       "    }\n",
       "</style>\n",
       "<table border=\"1\" class=\"dataframe\">\n",
       "  <thead>\n",
       "    <tr style=\"text-align: right;\">\n",
       "      <th></th>\n",
       "      <th>country</th>\n",
       "      <th>age</th>\n",
       "      <th>new_user</th>\n",
       "      <th>source</th>\n",
       "      <th>total_pages_visited</th>\n",
       "      <th>converted</th>\n",
       "      <th>user_type</th>\n",
       "    </tr>\n",
       "  </thead>\n",
       "  <tbody>\n",
       "  </tbody>\n",
       "</table>\n",
       "</div>"
      ],
      "text/plain": [
       "Empty DataFrame\n",
       "Columns: [country, age, new_user, source, total_pages_visited, converted, user_type]\n",
       "Index: []"
      ]
     },
     "execution_count": 53,
     "metadata": {},
     "output_type": "execute_result"
    }
   ],
   "source": [
    "df[df['age'] < lower_bound]"
   ]
  },
  {
   "cell_type": "code",
   "execution_count": 7,
   "id": "3fb6ad5f-b194-4d9d-a467-07358a39533d",
   "metadata": {},
   "outputs": [],
   "source": [
    "df = df[~(df['age'] > 70)]"
   ]
  },
  {
   "cell_type": "markdown",
   "id": "bbaacc38-28ad-42c0-8995-0312263a7b0a",
   "metadata": {},
   "source": [
    "### 3.2 One-Hot Coding"
   ]
  },
  {
   "cell_type": "code",
   "execution_count": 10,
   "id": "b3ec5bf6-608d-4d5c-9951-f81153ea41cf",
   "metadata": {
    "scrolled": true
   },
   "outputs": [
    {
     "data": {
      "text/html": [
       "<div>\n",
       "<style scoped>\n",
       "    .dataframe tbody tr th:only-of-type {\n",
       "        vertical-align: middle;\n",
       "    }\n",
       "\n",
       "    .dataframe tbody tr th {\n",
       "        vertical-align: top;\n",
       "    }\n",
       "\n",
       "    .dataframe thead th {\n",
       "        text-align: right;\n",
       "    }\n",
       "</style>\n",
       "<table border=\"1\" class=\"dataframe\">\n",
       "  <thead>\n",
       "    <tr style=\"text-align: right;\">\n",
       "      <th></th>\n",
       "      <th>age</th>\n",
       "      <th>new_user</th>\n",
       "      <th>total_pages_visited</th>\n",
       "      <th>converted</th>\n",
       "      <th>country_China</th>\n",
       "      <th>country_Germany</th>\n",
       "      <th>country_UK</th>\n",
       "      <th>country_US</th>\n",
       "      <th>source_Ads</th>\n",
       "      <th>source_Direct</th>\n",
       "      <th>source_Seo</th>\n",
       "    </tr>\n",
       "  </thead>\n",
       "  <tbody>\n",
       "    <tr>\n",
       "      <th>0</th>\n",
       "      <td>25</td>\n",
       "      <td>1</td>\n",
       "      <td>1</td>\n",
       "      <td>0</td>\n",
       "      <td>0</td>\n",
       "      <td>0</td>\n",
       "      <td>1</td>\n",
       "      <td>0</td>\n",
       "      <td>1</td>\n",
       "      <td>0</td>\n",
       "      <td>0</td>\n",
       "    </tr>\n",
       "    <tr>\n",
       "      <th>1</th>\n",
       "      <td>23</td>\n",
       "      <td>1</td>\n",
       "      <td>5</td>\n",
       "      <td>0</td>\n",
       "      <td>0</td>\n",
       "      <td>0</td>\n",
       "      <td>0</td>\n",
       "      <td>1</td>\n",
       "      <td>0</td>\n",
       "      <td>0</td>\n",
       "      <td>1</td>\n",
       "    </tr>\n",
       "    <tr>\n",
       "      <th>2</th>\n",
       "      <td>28</td>\n",
       "      <td>1</td>\n",
       "      <td>4</td>\n",
       "      <td>0</td>\n",
       "      <td>0</td>\n",
       "      <td>0</td>\n",
       "      <td>0</td>\n",
       "      <td>1</td>\n",
       "      <td>0</td>\n",
       "      <td>0</td>\n",
       "      <td>1</td>\n",
       "    </tr>\n",
       "    <tr>\n",
       "      <th>3</th>\n",
       "      <td>39</td>\n",
       "      <td>1</td>\n",
       "      <td>5</td>\n",
       "      <td>0</td>\n",
       "      <td>1</td>\n",
       "      <td>0</td>\n",
       "      <td>0</td>\n",
       "      <td>0</td>\n",
       "      <td>0</td>\n",
       "      <td>0</td>\n",
       "      <td>1</td>\n",
       "    </tr>\n",
       "    <tr>\n",
       "      <th>4</th>\n",
       "      <td>30</td>\n",
       "      <td>1</td>\n",
       "      <td>6</td>\n",
       "      <td>0</td>\n",
       "      <td>0</td>\n",
       "      <td>0</td>\n",
       "      <td>0</td>\n",
       "      <td>1</td>\n",
       "      <td>0</td>\n",
       "      <td>0</td>\n",
       "      <td>1</td>\n",
       "    </tr>\n",
       "  </tbody>\n",
       "</table>\n",
       "</div>"
      ],
      "text/plain": [
       "   age  new_user  total_pages_visited  converted  country_China  \\\n",
       "0   25         1                    1          0              0   \n",
       "1   23         1                    5          0              0   \n",
       "2   28         1                    4          0              0   \n",
       "3   39         1                    5          0              1   \n",
       "4   30         1                    6          0              0   \n",
       "\n",
       "   country_Germany  country_UK  country_US  source_Ads  source_Direct  \\\n",
       "0                0           1           0           1              0   \n",
       "1                0           0           1           0              0   \n",
       "2                0           0           1           0              0   \n",
       "3                0           0           0           0              0   \n",
       "4                0           0           1           0              0   \n",
       "\n",
       "   source_Seo  \n",
       "0           0  \n",
       "1           1  \n",
       "2           1  \n",
       "3           1  \n",
       "4           1  "
      ]
     },
     "execution_count": 10,
     "metadata": {},
     "output_type": "execute_result"
    }
   ],
   "source": [
    "# Utilize the pandas package to one hot coding the data\n",
    "df_encoded = pd.get_dummies(df, columns = ['country', 'source'])\n",
    "\n",
    "# Drop the column we generate in the data visualization part\n",
    "df_encoded = df_encoded.drop(columns = 'user_type')\n",
    "\n",
    "# Converting the bool value to integer value\n",
    "df_encoded = df_encoded.astype(int)\n",
    "\n",
    "# Display the first 5 rows of df_encoded\n",
    "df_encoded.head(5)"
   ]
  },
  {
   "cell_type": "code",
   "execution_count": 11,
   "id": "62bbab28-96a2-4c4f-8336-8e10d716bda6",
   "metadata": {},
   "outputs": [
    {
     "data": {
      "text/html": [
       "<div>\n",
       "<style scoped>\n",
       "    .dataframe tbody tr th:only-of-type {\n",
       "        vertical-align: middle;\n",
       "    }\n",
       "\n",
       "    .dataframe tbody tr th {\n",
       "        vertical-align: top;\n",
       "    }\n",
       "\n",
       "    .dataframe thead th {\n",
       "        text-align: right;\n",
       "    }\n",
       "</style>\n",
       "<table border=\"1\" class=\"dataframe\">\n",
       "  <thead>\n",
       "    <tr style=\"text-align: right;\">\n",
       "      <th></th>\n",
       "      <th>Row Number</th>\n",
       "      <th>Column Number</th>\n",
       "    </tr>\n",
       "  </thead>\n",
       "  <tbody>\n",
       "    <tr>\n",
       "      <th>0</th>\n",
       "      <td>316194</td>\n",
       "      <td>11</td>\n",
       "    </tr>\n",
       "  </tbody>\n",
       "</table>\n",
       "</div>"
      ],
      "text/plain": [
       "   Row Number  Column Number\n",
       "0      316194             11"
      ]
     },
     "execution_count": 11,
     "metadata": {},
     "output_type": "execute_result"
    }
   ],
   "source": [
    "# Display the shape of df_encoded\n",
    "pd.DataFrame([[df_encoded.shape[0], df_encoded.shape[1]]], columns = ['Row Number', 'Column Number'])"
   ]
  },
  {
   "cell_type": "markdown",
   "id": "b62526b5-e619-4429-abe4-34a23fa308f9",
   "metadata": {},
   "source": [
    "### 3.3 Normalizing the data"
   ]
  },
  {
   "cell_type": "markdown",
   "id": "f9c3abf6-4732-485d-a668-69c8ddcf49cb",
   "metadata": {},
   "source": [
    "There is one column named 'age'. However, other column data are single digital data. Before model training, it is necessary to handle the data."
   ]
  },
  {
   "cell_type": "code",
   "execution_count": 12,
   "id": "7bfc8965-d002-4be8-9d13-0d04ade25e3e",
   "metadata": {},
   "outputs": [
    {
     "data": {
      "text/html": [
       "<div>\n",
       "<style scoped>\n",
       "    .dataframe tbody tr th:only-of-type {\n",
       "        vertical-align: middle;\n",
       "    }\n",
       "\n",
       "    .dataframe tbody tr th {\n",
       "        vertical-align: top;\n",
       "    }\n",
       "\n",
       "    .dataframe thead th {\n",
       "        text-align: right;\n",
       "    }\n",
       "</style>\n",
       "<table border=\"1\" class=\"dataframe\">\n",
       "  <thead>\n",
       "    <tr style=\"text-align: right;\">\n",
       "      <th></th>\n",
       "      <th>age</th>\n",
       "      <th>new_user</th>\n",
       "      <th>total_pages_visited</th>\n",
       "      <th>converted</th>\n",
       "      <th>country_China</th>\n",
       "      <th>country_Germany</th>\n",
       "      <th>country_UK</th>\n",
       "      <th>country_US</th>\n",
       "      <th>source_Ads</th>\n",
       "      <th>source_Direct</th>\n",
       "      <th>source_Seo</th>\n",
       "    </tr>\n",
       "  </thead>\n",
       "  <tbody>\n",
       "    <tr>\n",
       "      <th>0</th>\n",
       "      <td>0.150943</td>\n",
       "      <td>1.0</td>\n",
       "      <td>0.000000</td>\n",
       "      <td>0.0</td>\n",
       "      <td>0.0</td>\n",
       "      <td>0.0</td>\n",
       "      <td>1.0</td>\n",
       "      <td>0.0</td>\n",
       "      <td>1.0</td>\n",
       "      <td>0.0</td>\n",
       "      <td>0.0</td>\n",
       "    </tr>\n",
       "    <tr>\n",
       "      <th>1</th>\n",
       "      <td>0.113208</td>\n",
       "      <td>1.0</td>\n",
       "      <td>0.142857</td>\n",
       "      <td>0.0</td>\n",
       "      <td>0.0</td>\n",
       "      <td>0.0</td>\n",
       "      <td>0.0</td>\n",
       "      <td>1.0</td>\n",
       "      <td>0.0</td>\n",
       "      <td>0.0</td>\n",
       "      <td>1.0</td>\n",
       "    </tr>\n",
       "    <tr>\n",
       "      <th>2</th>\n",
       "      <td>0.207547</td>\n",
       "      <td>1.0</td>\n",
       "      <td>0.107143</td>\n",
       "      <td>0.0</td>\n",
       "      <td>0.0</td>\n",
       "      <td>0.0</td>\n",
       "      <td>0.0</td>\n",
       "      <td>1.0</td>\n",
       "      <td>0.0</td>\n",
       "      <td>0.0</td>\n",
       "      <td>1.0</td>\n",
       "    </tr>\n",
       "    <tr>\n",
       "      <th>3</th>\n",
       "      <td>0.415094</td>\n",
       "      <td>1.0</td>\n",
       "      <td>0.142857</td>\n",
       "      <td>0.0</td>\n",
       "      <td>1.0</td>\n",
       "      <td>0.0</td>\n",
       "      <td>0.0</td>\n",
       "      <td>0.0</td>\n",
       "      <td>0.0</td>\n",
       "      <td>0.0</td>\n",
       "      <td>1.0</td>\n",
       "    </tr>\n",
       "    <tr>\n",
       "      <th>4</th>\n",
       "      <td>0.245283</td>\n",
       "      <td>1.0</td>\n",
       "      <td>0.178571</td>\n",
       "      <td>0.0</td>\n",
       "      <td>0.0</td>\n",
       "      <td>0.0</td>\n",
       "      <td>0.0</td>\n",
       "      <td>1.0</td>\n",
       "      <td>0.0</td>\n",
       "      <td>0.0</td>\n",
       "      <td>1.0</td>\n",
       "    </tr>\n",
       "  </tbody>\n",
       "</table>\n",
       "</div>"
      ],
      "text/plain": [
       "        age  new_user  total_pages_visited  converted  country_China  \\\n",
       "0  0.150943       1.0             0.000000        0.0            0.0   \n",
       "1  0.113208       1.0             0.142857        0.0            0.0   \n",
       "2  0.207547       1.0             0.107143        0.0            0.0   \n",
       "3  0.415094       1.0             0.142857        0.0            1.0   \n",
       "4  0.245283       1.0             0.178571        0.0            0.0   \n",
       "\n",
       "   country_Germany  country_UK  country_US  source_Ads  source_Direct  \\\n",
       "0              0.0         1.0         0.0         1.0            0.0   \n",
       "1              0.0         0.0         1.0         0.0            0.0   \n",
       "2              0.0         0.0         1.0         0.0            0.0   \n",
       "3              0.0         0.0         0.0         0.0            0.0   \n",
       "4              0.0         0.0         1.0         0.0            0.0   \n",
       "\n",
       "   source_Seo  \n",
       "0         0.0  \n",
       "1         1.0  \n",
       "2         1.0  \n",
       "3         1.0  \n",
       "4         1.0  "
      ]
     },
     "execution_count": 12,
     "metadata": {},
     "output_type": "execute_result"
    }
   ],
   "source": [
    "from sklearn.preprocessing import MinMaxScaler\n",
    "\n",
    "scaler = MinMaxScaler()\n",
    "\n",
    "df_normalized = pd.DataFrame(scaler.fit_transform(df_encoded), columns = df_encoded.columns)\n",
    "\n",
    "df_normalized.head(5)"
   ]
  },
  {
   "cell_type": "markdown",
   "id": "27e69526-62b7-4f87-bcc8-50f41bda19bc",
   "metadata": {},
   "source": [
    "### 3.4 Splitting the data"
   ]
  },
  {
   "cell_type": "code",
   "execution_count": 13,
   "id": "2d36fca7-b3f7-4475-98dd-b7d0c2a75888",
   "metadata": {},
   "outputs": [
    {
     "name": "stdout",
     "output_type": "stream",
     "text": [
      "training dataset shape is:\n",
      "(252955, 10)\n",
      "testing dataset shape is:\n",
      "(63239, 10)\n"
     ]
    }
   ],
   "source": [
    "from sklearn.model_selection import train_test_split\n",
    "\n",
    "X = df_normalized.drop(columns = ['converted'])\n",
    "y = df_normalized['converted']\n",
    "\n",
    "# Split the data into training and testing data\n",
    "X_train, X_test, y_train, y_test = train_test_split(X, y, test_size = 0.2, random_state = 42)\n",
    "\n",
    "print('training dataset shape is:')\n",
    "print(X_train.shape)\n",
    "print('testing dataset shape is:')\n",
    "print(X_test.shape)\n"
   ]
  },
  {
   "cell_type": "markdown",
   "id": "50faba44-bd7d-412a-8450-b3920648dbf4",
   "metadata": {},
   "source": [
    "### 3.5 Logistic Regression Model"
   ]
  },
  {
   "cell_type": "markdown",
   "id": "8ee0a375-c2d7-4cd7-8bc1-a1b562381548",
   "metadata": {},
   "source": [
    "After preprocessing the all data, next step is to build model. Logistic Model and Random Forest Model are used in this project.\n",
    "\n",
    "The target variable in this project is 'converted'. The values are 0s and 1s. Therefore, Logistic Model is a good model to predict binary target variable. Compared to other models, Logistic Model is a simple and basic model for most of data scientist."
   ]
  },
  {
   "cell_type": "code",
   "execution_count": 14,
   "id": "6c4d9e52-54dd-48f7-a629-63e195ac5a0e",
   "metadata": {},
   "outputs": [
    {
     "name": "stdout",
     "output_type": "stream",
     "text": [
      "Accuracy: 0.9862426667088348\n"
     ]
    }
   ],
   "source": [
    "from sklearn.linear_model import LogisticRegression\n",
    "from sklearn.metrics import accuracy_score\n",
    "from sklearn.metrics import classification_report\n",
    "from sklearn.metrics import  confusion_matrix\n",
    "from sklearn.metrics import  roc_curve\n",
    "from sklearn.metrics import  roc_auc_score\n",
    "from sklearn.metrics import  precision_recall_curve\n",
    "from sklearn.metrics import  auc\n",
    "\n",
    "\n",
    "logistic_model = LogisticRegression()\n",
    "logistic_model.fit(X_train, y_train)\n",
    "\n",
    "y_pred = logistic_model.predict(X_test)\n",
    "y_pred_proba = logistic_model.predict_proba(X_test)[:, 1]\n",
    "\n",
    "accuracy_lr = accuracy_score(y_test, y_pred)\n",
    "print('Accuracy:', accuracy_lr)\n"
   ]
  },
  {
   "cell_type": "markdown",
   "id": "c9b92d7f-80ed-4024-a0ad-4040d20e8ce1",
   "metadata": {},
   "source": [
    "The Logistic Regression Model accuracy is 0.9862. It is a very good score, but we still need to consider other metrics."
   ]
  },
  {
   "cell_type": "code",
   "execution_count": 16,
   "id": "0a28e585-405b-48d0-b525-277f028584b4",
   "metadata": {},
   "outputs": [
    {
     "name": "stdout",
     "output_type": "stream",
     "text": [
      "Classification Report:\n",
      "               precision    recall  f1-score   support\n",
      "\n",
      "         0.0       0.99      1.00      0.99     61189\n",
      "         1.0       0.86      0.69      0.77      2050\n",
      "\n",
      "    accuracy                           0.99     63239\n",
      "   macro avg       0.92      0.84      0.88     63239\n",
      "weighted avg       0.99      0.99      0.99     63239\n",
      "\n"
     ]
    }
   ],
   "source": [
    "# Classification Report\n",
    "print(\"Classification Report:\\n\", classification_report(y_test, y_pred))"
   ]
  },
  {
   "cell_type": "markdown",
   "id": "65ac3bd5-5245-4b5e-88ab-5addb358b53f",
   "metadata": {},
   "source": [
    "For advertising, precision is more important than recall. From the above report, we can see that the precision rate of class 1 'converted' is 86%. If only considering the precision, the Logistic Regression Model performance is good.\n",
    "\n",
    "If considering customers analysis, recall is more important than precision. The Logistic Regression Model correctly predict class 1 'converted' 69%. "
   ]
  },
  {
   "cell_type": "code",
   "execution_count": 17,
   "id": "fd0af281-5e88-4d22-ab85-02e1e7ccb3f1",
   "metadata": {},
   "outputs": [
    {
     "name": "stdout",
     "output_type": "stream",
     "text": [
      "Confusion Matrix:\n",
      " [[60951   238]\n",
      " [  632  1418]]\n"
     ]
    }
   ],
   "source": [
    "# Confusion Matrix\n",
    "conf_matrix = confusion_matrix(y_test, y_pred)\n",
    "print(\"Confusion Matrix:\\n\", conf_matrix)"
   ]
  },
  {
   "cell_type": "markdown",
   "id": "a83049fb-0dc0-47ba-884c-8c5be012e324",
   "metadata": {},
   "source": [
    "From the confusion matrix, the true positive instance number is 60951. The total number of instance is 63239. The true positive rate is very good."
   ]
  },
  {
   "cell_type": "markdown",
   "id": "837c32d2-d1fb-4cc8-8107-db8eae4cfd5f",
   "metadata": {},
   "source": [
    "### 3.6 Random Forest Model"
   ]
  },
  {
   "cell_type": "markdown",
   "id": "1e510567-04a1-463e-b2c9-a1d7c7685c8a",
   "metadata": {},
   "source": [
    "The Logistic Regression Model performance is good enough. However, I still utilize random forest model, because Logistic Regression model result may be overfitting and this model could reduce the overfitting influence. That means this model may have better performance than Logistic Regression Model. "
   ]
  },
  {
   "cell_type": "code",
   "execution_count": 15,
   "id": "9095f03c-63ee-4202-b3f5-12ee34f9c33a",
   "metadata": {},
   "outputs": [
    {
     "name": "stdout",
     "output_type": "stream",
     "text": [
      "Random Forest Model Accuracy: 0.9862426667088348\n"
     ]
    }
   ],
   "source": [
    "from sklearn.ensemble import RandomForestClassifier\n",
    "\n",
    "random_forest_model = RandomForestClassifier()\n",
    "random_forest_model.fit(X_train, y_train)\n",
    "\n",
    "y_pred_rf = random_forest_model.predict(X_test)\n",
    "\n",
    "accuracy_rf = accuracy_score(y_test, y_pred)\n",
    "\n",
    "print(\"Random Forest Model Accuracy:\", accuracy_rf)"
   ]
  },
  {
   "cell_type": "code",
   "execution_count": 19,
   "id": "2ca80239-7530-4f7e-bcde-53772d443746",
   "metadata": {},
   "outputs": [
    {
     "name": "stdout",
     "output_type": "stream",
     "text": [
      "Random Forest Model Classification Report:\n",
      "               precision    recall  f1-score   support\n",
      "\n",
      "         0.0       0.99      0.99      0.99     61189\n",
      "         1.0       0.80      0.69      0.74      2050\n",
      "\n",
      "    accuracy                           0.98     63239\n",
      "   macro avg       0.90      0.84      0.87     63239\n",
      "weighted avg       0.98      0.98      0.98     63239\n",
      "\n"
     ]
    }
   ],
   "source": [
    "# Classification Report\n",
    "print(\"Random Forest Model Classification Report:\\n\", classification_report(y_test, y_pred_rf))"
   ]
  },
  {
   "cell_type": "markdown",
   "id": "64c6375a-67c6-46cb-b18c-e743791e98ae",
   "metadata": {},
   "source": [
    "From the above classification report, we can see that the main difference between two models is the precision rate for the class 1 'converted'. The precision is a litte lower than the Logistic Regression Model, but is still 80%. That means no matter what model, the performance by precision is not bad."
   ]
  },
  {
   "cell_type": "code",
   "execution_count": 20,
   "id": "95bb6271-618f-41ff-85d3-bd1b95be5255",
   "metadata": {},
   "outputs": [
    {
     "name": "stdout",
     "output_type": "stream",
     "text": [
      "Random Forest Model Confusion Matrix:\n",
      " [[60840   349]\n",
      " [  642  1408]]\n"
     ]
    }
   ],
   "source": [
    "# Confusion Matrix\n",
    "conf_matrix_rf = confusion_matrix(y_test, y_pred_rf)\n",
    "print(\"Random Forest Model Confusion Matrix:\\n\", conf_matrix_rf)"
   ]
  },
  {
   "cell_type": "markdown",
   "id": "a24ac200-885f-415d-8e83-9b749081e8fb",
   "metadata": {},
   "source": [
    "From the Random Forest Model confusion matrix, the true positive instance number is 60840. Compared to the Logistic Regression Model's, there is 100 instance number gap. However, the gap between two model is not huge. "
   ]
  },
  {
   "cell_type": "markdown",
   "id": "296d390c-faf2-4b65-855f-1317e125dbad",
   "metadata": {},
   "source": [
    "### 3.6 ROC and AUC"
   ]
  },
  {
   "cell_type": "markdown",
   "id": "7ddd5505-398a-4e89-b726-ab8397e425bd",
   "metadata": {},
   "source": [
    "#### 3.6.1 Logistic Regression Model ROC"
   ]
  },
  {
   "cell_type": "code",
   "execution_count": 17,
   "id": "188ef4ca-ce65-4b25-9120-73159c1470be",
   "metadata": {
    "scrolled": true
   },
   "outputs": [
    {
     "data": {
      "image/png": "[encoded data removed]",
      "text/plain": [
       "<Figure size 640x480 with 1 Axes>"
      ]
     },
     "metadata": {},
     "output_type": "display_data"
    }
   ],
   "source": [
    "fpr, tpr, _ = roc_curve(y_test, y_pred_proba)\n",
    "roc_auc = auc(fpr, tpr)\n",
    "\n",
    "# Plot the ROC curve\n",
    "plt.figure()\n",
    "plt.plot(fpr, tpr, color='blue', lw=2, label=f'ROC curve (area = {roc_auc:.2f})')\n",
    "plt.plot([0, 1], [0, 1], color='gray', linestyle='--')\n",
    "plt.xlim([0.0, 1.0])\n",
    "plt.ylim([0.0, 1.05])\n",
    "plt.xlabel('False Positive Rate')\n",
    "plt.ylabel('True Positive Rate')\n",
    "plt.title('Receiver Operating Characteristic (ROC)')\n",
    "plt.legend(loc='lower right')\n",
    "plt.show()"
   ]
  },
  {
   "cell_type": "markdown",
   "id": "b1020f4e-8f90-45da-afda-65e8881b80ec",
   "metadata": {},
   "source": [
    "#### 3.6.2 Random Forest Model ROC"
   ]
  },
  {
   "cell_type": "code",
   "execution_count": 18,
   "id": "3572fe40-6ac3-402f-b7c3-ab67647417b9",
   "metadata": {
    "scrolled": true
   },
   "outputs": [
    {
     "data": {
      "image/png": "[encoded data removed]",
      "text/plain": [
       "<Figure size 640x480 with 1 Axes>"
      ]
     },
     "metadata": {},
     "output_type": "display_data"
    }
   ],
   "source": [
    "fpr, tpr, _ = roc_curve(y_test, y_pred_rf)\n",
    "roc_auc = auc(fpr, tpr)\n",
    "\n",
    "# Plot the ROC curve\n",
    "plt.figure()\n",
    "plt.plot(fpr, tpr, color='blue', lw=2, label=f'ROC curve (area = {roc_auc:.2f})')\n",
    "plt.plot([0, 1], [0, 1], color='gray', linestyle='--')\n",
    "plt.xlim([0.0, 1.0])\n",
    "plt.ylim([0.0, 1.05])\n",
    "plt.xlabel('False Positive Rate')\n",
    "plt.ylabel('True Positive Rate')\n",
    "plt.title('Receiver Operating Characteristic (ROC)')\n",
    "plt.legend(loc='lower right')\n",
    "plt.show()"
   ]
  },
  {
   "cell_type": "markdown",
   "id": "7ca76d94-22b8-4f6f-a200-aa8583c37181",
   "metadata": {},
   "source": [
    "#### 3.6.3 Result Interpretion"
   ]
  },
  {
   "cell_type": "markdown",
   "id": "223403a3-f34f-4d02-8d4d-e06f7972a6e4",
   "metadata": {},
   "source": [
    "The area of Logistic Regression Model is 0.99, which means the very high ability to distinguish between the positive and negative class. Random Forest Model roc area is 0.84, which is less than Logistic Regression Model. \n",
    "\n",
    "Compared with Random Forest Model, the higher roc area of Logistic Regression Model means better performance. "
   ]
  },
  {
   "cell_type": "markdown",
   "id": "2c483dbd-4985-4651-9335-4dbef5275793",
   "metadata": {},
   "source": [
    "## Part 4: Analysis"
   ]
  },
  {
   "cell_type": "markdown",
   "id": "98419f3d-d7af-4bf2-add7-3e4304c25033",
   "metadata": {},
   "source": [
    "The project is to build a model to predict the conversion rate in an E-commerece site. The dataset includes age, country, source, and the number of pages visited information.\n",
    "\n",
    "Firstly, I cleaned the dataset. The process includes handling missing value, cleaning outliers, normalizing data. \n",
    "\n",
    "And I also built the visualization graphs to check the information of the dataset.\n",
    "\n",
    "I built two models, Logistic Regression Model and Random Forest Model for this binary label dataset. The logistic model, (Accuracy as metric) can predict the class '1' or '0' 98% correctly. "
   ]
  },
  {
   "cell_type": "markdown",
   "id": "153bc267-5fbf-4574-8842-dcfa825ace9b",
   "metadata": {},
   "source": [
    "### 4.1 Model Comparsion"
   ]
  },
  {
   "cell_type": "markdown",
   "id": "5d861332-9fce-4e1b-8216-cc405a219aff",
   "metadata": {},
   "source": [
    "If we use metrics, accuracy, precision, recall, or F1 score as the standard of the project, the two models, Logistic Regression Model and Random Forest Model, have close prediction result. However, from the ROC graph, the learning rate of Logistic Regression Model is better than Random Forest Model. Therefore, we can say that in this project, the performance of Logistic Regression Model is better.\n",
    "\n",
    "Logistic Regression Model may have overfitting risk compared to Random Forest Model. (Random Forest Model overfitting probability is less than Logistic Regression.) Therefore, we still objectively justify the two models. "
   ]
  },
  {
   "cell_type": "markdown",
   "id": "95d263a4-91d1-4f79-8cec-552c0f61a63c",
   "metadata": {},
   "source": [
    "### 4.2 Future Improvement"
   ]
  },
  {
   "cell_type": "markdown",
   "id": "840a6337-d435-46b3-88f7-98e4f3b40691",
   "metadata": {},
   "source": [
    "Firstly, it seems that further important checking is useful. It is important to check which feature has high influence. \n",
    "\n",
    "Secondly, the more models can be built for better performance."
   ]
  },
  {
   "cell_type": "code",
   "execution_count": null,
   "id": "ac90ea44-2666-4230-880a-f21f9f4fcbf0",
   "metadata": {},
   "outputs": [],
   "source": []
  },
  {
   "cell_type": "code",
   "execution_count": null,
   "id": "ef8d9957-8e10-4b60-bd1b-380c56b7f6b7",
   "metadata": {},
   "outputs": [],
   "source": []
  }
 ],
 "metadata": {
  "kernelspec": {
   "display_name": "Python 3 (ipykernel)",
   "language": "python",
   "name": "python3"
  },
  "language_info": {
   "codemirror_mode": {
    "name": "ipython",
    "version": 3
   },
   "file_extension": ".py",
   "mimetype": "text/x-python",
   "name": "python",
   "nbconvert_exporter": "python",
   "pygments_lexer": "ipython3",
   "version": "3.12.2"
  }
 },
 "nbformat": 4,
 "nbformat_minor": 5
}
